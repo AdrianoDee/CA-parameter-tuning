{
 "cells": [
  {
   "cell_type": "code",
   "execution_count": 3,
   "metadata": {},
   "outputs": [],
   "source": [
    "import uproot\n",
    "import matplotlib.pyplot as plt\n",
    "import numpy as np\n",
    "import pandas as pd\n",
    "import utils\n",
    "import os"
   ]
  },
  {
   "cell_type": "code",
   "execution_count": 1,
   "metadata": {},
   "outputs": [],
   "source": [
    "num_agents = 10\n",
    "num_iterations = 100\n",
    "num_params = 61\n",
    "#num_params = 25"
   ]
  },
  {
   "cell_type": "code",
   "execution_count": 5,
   "metadata": {},
   "outputs": [
    {
     "ename": "FileNotFoundError",
     "evalue": "checkpoint/default.csv not found.",
     "output_type": "error",
     "traceback": [
      "\u001b[0;31m---------------------------------------------------------------------------\u001b[0m",
      "\u001b[0;31mFileNotFoundError\u001b[0m                         Traceback (most recent call last)",
      "\u001b[1;32m/Users/adrianodif/mounted_volumes/vol1/autotune/catuning/plotting.ipynb Cella 3\u001b[0m line \u001b[0;36m2\n\u001b[1;32m      <a href='vscode-notebook-cell:/Users/adrianodif/mounted_volumes/vol1/autotune/catuning/plotting.ipynb#W2sZmlsZQ%3D%3D?line=0'>1</a>\u001b[0m prefix \u001b[39m=\u001b[39m \u001b[39m\"\u001b[39m\u001b[39m\"\u001b[39m\n\u001b[0;32m----> <a href='vscode-notebook-cell:/Users/adrianodif/mounted_volumes/vol1/autotune/catuning/plotting.ipynb#W2sZmlsZQ%3D%3D?line=1'>2</a>\u001b[0m default \u001b[39m=\u001b[39m utils\u001b[39m.\u001b[39;49mread_csv(prefix \u001b[39m+\u001b[39;49m \u001b[39m'\u001b[39;49m\u001b[39mcheckpoint/default.csv\u001b[39;49m\u001b[39m'\u001b[39;49m)[\u001b[39m0\u001b[39m]\n\u001b[1;32m      <a href='vscode-notebook-cell:/Users/adrianodif/mounted_volumes/vol1/autotune/catuning/plotting.ipynb#W2sZmlsZQ%3D%3D?line=2'>3</a>\u001b[0m default_params \u001b[39m=\u001b[39m default[:num_params]\n\u001b[1;32m      <a href='vscode-notebook-cell:/Users/adrianodif/mounted_volumes/vol1/autotune/catuning/plotting.ipynb#W2sZmlsZQ%3D%3D?line=3'>4</a>\u001b[0m default_metrics \u001b[39m=\u001b[39m default[num_params:]\n",
      "File \u001b[0;32m~/mounted_volumes/vol1/autotune/catuning/utils.py:19\u001b[0m, in \u001b[0;36mread_csv\u001b[0;34m(filename)\u001b[0m\n\u001b[1;32m     18\u001b[0m \u001b[39mdef\u001b[39;00m \u001b[39mread_csv\u001b[39m(filename):\n\u001b[0;32m---> 19\u001b[0m     matrix \u001b[39m=\u001b[39m np\u001b[39m.\u001b[39;49mgenfromtxt(filename, delimiter\u001b[39m=\u001b[39;49m\u001b[39m\"\u001b[39;49m\u001b[39m,\u001b[39;49m\u001b[39m\"\u001b[39;49m, dtype\u001b[39m=\u001b[39;49m\u001b[39mfloat\u001b[39;49m)\n\u001b[1;32m     20\u001b[0m     \u001b[39mif\u001b[39;00m matrix\u001b[39m.\u001b[39mndim \u001b[39m==\u001b[39m \u001b[39m2\u001b[39m:\n\u001b[1;32m     21\u001b[0m         \u001b[39mreturn\u001b[39;00m np\u001b[39m.\u001b[39mgenfromtxt(filename, delimiter\u001b[39m=\u001b[39m\u001b[39m\"\u001b[39m\u001b[39m,\u001b[39m\u001b[39m\"\u001b[39m, dtype\u001b[39m=\u001b[39m\u001b[39mfloat\u001b[39m)\n",
      "File \u001b[0;32m~/miniconda3/envs/analysis/lib/python3.11/site-packages/numpy/lib/npyio.py:1969\u001b[0m, in \u001b[0;36mgenfromtxt\u001b[0;34m(fname, dtype, comments, delimiter, skip_header, skip_footer, converters, missing_values, filling_values, usecols, names, excludelist, deletechars, replace_space, autostrip, case_sensitive, defaultfmt, unpack, usemask, loose, invalid_raise, max_rows, encoding, ndmin, like)\u001b[0m\n\u001b[1;32m   1967\u001b[0m     fname \u001b[39m=\u001b[39m os_fspath(fname)\n\u001b[1;32m   1968\u001b[0m \u001b[39mif\u001b[39;00m \u001b[39misinstance\u001b[39m(fname, \u001b[39mstr\u001b[39m):\n\u001b[0;32m-> 1969\u001b[0m     fid \u001b[39m=\u001b[39m np\u001b[39m.\u001b[39;49mlib\u001b[39m.\u001b[39;49m_datasource\u001b[39m.\u001b[39;49mopen(fname, \u001b[39m'\u001b[39;49m\u001b[39mrt\u001b[39;49m\u001b[39m'\u001b[39;49m, encoding\u001b[39m=\u001b[39;49mencoding)\n\u001b[1;32m   1970\u001b[0m     fid_ctx \u001b[39m=\u001b[39m contextlib\u001b[39m.\u001b[39mclosing(fid)\n\u001b[1;32m   1971\u001b[0m \u001b[39melse\u001b[39;00m:\n",
      "File \u001b[0;32m~/miniconda3/envs/analysis/lib/python3.11/site-packages/numpy/lib/_datasource.py:193\u001b[0m, in \u001b[0;36mopen\u001b[0;34m(path, mode, destpath, encoding, newline)\u001b[0m\n\u001b[1;32m    156\u001b[0m \u001b[39m\u001b[39m\u001b[39m\"\"\"\u001b[39;00m\n\u001b[1;32m    157\u001b[0m \u001b[39mOpen `path` with `mode` and return the file object.\u001b[39;00m\n\u001b[1;32m    158\u001b[0m \n\u001b[0;32m   (...)\u001b[0m\n\u001b[1;32m    189\u001b[0m \n\u001b[1;32m    190\u001b[0m \u001b[39m\"\"\"\u001b[39;00m\n\u001b[1;32m    192\u001b[0m ds \u001b[39m=\u001b[39m DataSource(destpath)\n\u001b[0;32m--> 193\u001b[0m \u001b[39mreturn\u001b[39;00m ds\u001b[39m.\u001b[39;49mopen(path, mode, encoding\u001b[39m=\u001b[39;49mencoding, newline\u001b[39m=\u001b[39;49mnewline)\n",
      "File \u001b[0;32m~/miniconda3/envs/analysis/lib/python3.11/site-packages/numpy/lib/_datasource.py:533\u001b[0m, in \u001b[0;36mDataSource.open\u001b[0;34m(self, path, mode, encoding, newline)\u001b[0m\n\u001b[1;32m    530\u001b[0m     \u001b[39mreturn\u001b[39;00m _file_openers[ext](found, mode\u001b[39m=\u001b[39mmode,\n\u001b[1;32m    531\u001b[0m                               encoding\u001b[39m=\u001b[39mencoding, newline\u001b[39m=\u001b[39mnewline)\n\u001b[1;32m    532\u001b[0m \u001b[39melse\u001b[39;00m:\n\u001b[0;32m--> 533\u001b[0m     \u001b[39mraise\u001b[39;00m \u001b[39mFileNotFoundError\u001b[39;00m(\u001b[39mf\u001b[39m\u001b[39m\"\u001b[39m\u001b[39m{\u001b[39;00mpath\u001b[39m}\u001b[39;00m\u001b[39m not found.\u001b[39m\u001b[39m\"\u001b[39m)\n",
      "\u001b[0;31mFileNotFoundError\u001b[0m: checkpoint/default.csv not found."
     ]
    }
   ],
   "source": [
    "prefix = \"\"\n",
    "default = utils.read_csv(prefix + 'checkpoint/default.csv')[0]\n",
    "default_params = default[:num_params]\n",
    "default_metrics = default[num_params:]"
   ]
  },
  {
   "cell_type": "code",
   "execution_count": 16,
   "metadata": {},
   "outputs": [],
   "source": [
    "metrics = [pd.read_csv(prefix + 'history/iteration' + str(i) + '.csv', header=None, usecols=[num_params, num_params + 1]).transpose().to_numpy()\n",
    "           for i in range(num_iterations)]\n"
   ]
  },
  {
   "cell_type": "code",
   "execution_count": 17,
   "metadata": {},
   "outputs": [
    {
     "data": {
      "image/png": "[encoded data removed]",
      "text/plain": [
       "<Figure size 640x480 with 1 Axes>"
      ]
     },
     "metadata": {},
     "output_type": "display_data"
    }
   ],
   "source": [
    "import matplotlib.animation as animation\n",
    "\n",
    "fig, ax = plt.subplots()\n",
    "\n",
    "def animate(i):\n",
    "    fig.clear()\n",
    "    ax = fig.add_subplot(111)\n",
    "    ax.set_xlim(0., 1.0)\n",
    "    ax.set_ylim(0.0, 1.0)\n",
    "    # s = ax.scatter(metrics[0][1], 1 - metrics[0][0], s=10)\n",
    "    s = ax.scatter(metrics[i][1], 1 - metrics[i][0], c='red', s=10)\n",
    "    # s = ax.scatter(metrics[num_iterations - 1][1], 1 - metrics[num_iterations - 1][0], c='green', s=10)\n",
    "    s = ax.plot([default_metrics[1]], [1 - default_metrics[0]], 'x', color='black')\n",
    "    # ax.set_xlabel(r'fakes $=\\frac{(N_{rec}-N_{ass})}{N_{rec}}$')\n",
    "    # ax.set_ylabel(r'eff $=\\frac{N_{ass}}{N_{sim}}$')\n",
    "    # ax.legend(loc='best')\n",
    "    ax.set_title(str(i))\n",
    "\n",
    "ani=animation.FuncAnimation(fig, animate, interval=200, frames=range(num_iterations))\n",
    "ani.save(prefix+'checkpoint/metrics.gif', writer='pillow')\n"
   ]
  },
  {
   "cell_type": "code",
   "execution_count": 18,
   "metadata": {},
   "outputs": [],
   "source": [
    "pareto_front = utils.read_csv(prefix+'checkpoint/pareto_front.csv')\n",
    "pareto_front = pareto_front[pareto_front[:, num_params + 1].argsort()]\n",
    "pareto_x = [particle[num_params + 1] for particle in pareto_front]\n",
    "\n",
    "pareto_y = [1 - particle[num_params] for particle in pareto_front]\n",
    "# pareto_z = [particle[6] for particle in pareto_front]\n",
    "# pareto_t = [particle[5] + particle[6] for particle in pareto_front]"
   ]
  },
  {
   "cell_type": "code",
   "execution_count": 19,
   "metadata": {},
   "outputs": [
    {
     "data": {
      "text/plain": [
       "36"
      ]
     },
     "execution_count": 19,
     "metadata": {},
     "output_type": "execute_result"
    }
   ],
   "source": [
    "len(pareto_front)"
   ]
  },
  {
   "cell_type": "code",
   "execution_count": 21,
   "metadata": {},
   "outputs": [
    {
     "data": {
      "image/png": "[encoded data removed]",
      "text/plain": [
       "<Figure size 640x480 with 1 Axes>"
      ]
     },
     "metadata": {},
     "output_type": "display_data"
    }
   ],
   "source": [
    "point1 = pareto_front[10]\n",
    "point2 = pareto_front[15]\n",
    "point3 = pareto_front[30]\n",
    "\n",
    "\n",
    "plt.scatter(pareto_x, pareto_y, s=5)\n",
    "plt.plot(default_metrics[1], 1 - default_metrics[0], 'x', color='black')\n",
    "plt.scatter([point1[num_params + 1], point2[num_params + 1], point3[num_params + 1]], \n",
    "            [1 - point1[num_params], 1 - point2[num_params], 1 - point3[num_params]], color='red', s=8)\n",
    "# plt.scatter([point1[5] + point1[6], point2[5] + point2[6], point3[5] + point3[6]], [1 - point1[4], 1 - point2[4], 1 - point3[4]], color='red', s=8)\n",
    "\n",
    "# plt.scatter(point1[5], 1 - point1[4], color='red', s=8)\n",
    "plt.xlim(0.9, 1.0)\n",
    "plt.ylim(0.8, 1.0)\n",
    "plt.xlabel('Fake + duplicates rate')\n",
    "plt.ylabel('Efficiency')\n",
    "plt.title('Pareto Front')\n",
    "plt.savefig(prefix+'checkpoint/pf.png')\n",
    "plt.show()\n"
   ]
  },
  {
   "cell_type": "code",
   "execution_count": 24,
   "metadata": {},
   "outputs": [
    {
     "name": "stdout",
     "output_type": "stream",
     "text": [
      "[0.001242390138406142, 0.011016622026881959, 0.019025541369135528, 0.3243260897863999, 0.6992549152294786, 13.518495965430047, 828.2806972577172, 499.95947615886695, 497.1881923475101, 549.4323175780296, 458.92696273985996, 527.1192085534236, 617.51671312508, 510.1782613274464, 463.6333016215595, 1000.0, 784.6042389631943, 845.2974525785024, 771.6882367643036, 871.6430666012137, 541.6692194928603, 849.9942372372989, 707.6874180284698, 552.2610643798458, 839.421078553105]\n",
      "[0.001222545436655035, 0.013595020631356806, 0.021022132822038814, 0.28687813655021843, 0.727251284126227, 12.137115093865255, 942.3715445400439, 568.3454636878149, 542.1595215918978, 653.7344190343659, 400.0, 545.6131340699769, 458.96529199339443, 548.4565266298832, 419.6168439445876, 1000.0, 941.174097275878, 611.0974478127922, 763.6765823830119, 978.0460927376467, 431.2284296949365, 738.0117721766212, 751.1667314228008, 424.31430406228316, 834.130107809801]\n",
      "[0.001636378529271592, 0.01827425280693685, 0.0389684159745325, 0.21765430995562735, 0.7507211539810953, 11.526933091827976, 928.5308275624404, 704.6878907253606, 682.6144928404974, 716.9929730574243, 426.6189624538271, 593.5456027934434, 467.48045554425164, 566.9951954244707, 418.6278668756106, 908.3930495647364, 887.1357760864483, 469.7232885584501, 716.8069224803169, 953.5155374165611, 477.429457847399, 655.4638096039424, 734.9362060445235, 450.97502750750266, 868.0541464668883]\n"
     ]
    }
   ],
   "source": [
    "print([point1[i] for i in range(num_params)])\n",
    "print([point2[i] for i in range(num_params)])\n",
    "print([point3[i] for i in range(num_params)])"
   ]
  },
  {
   "cell_type": "code",
   "execution_count": 25,
   "metadata": {},
   "outputs": [],
   "source": [
    "selected_params = [default_params, point1[:num_params], point2[:num_params], point3[:num_params]]\n",
    "# selected_params"
   ]
  },
  {
   "cell_type": "code",
   "execution_count": 26,
   "metadata": {},
   "outputs": [],
   "source": [
    "utils.write_csv('checkpoint/selected_params.csv', selected_params)"
   ]
  },
  {
   "cell_type": "code",
   "execution_count": 25,
   "metadata": {},
   "outputs": [],
   "source": [
    "# print(point1)\n",
    "# print(point2)\n",
    "# print(point3)"
   ]
  },
  {
   "cell_type": "code",
   "execution_count": null,
   "metadata": {},
   "outputs": [],
   "source": []
  }
 ],
 "metadata": {
  "kernelspec": {
   "display_name": "cms",
   "language": "python",
   "name": "python3"
  },
  "language_info": {
   "codemirror_mode": {
    "name": "ipython",
    "version": 3
   },
   "file_extension": ".py",
   "mimetype": "text/x-python",
   "name": "python",
   "nbconvert_exporter": "python",
   "pygments_lexer": "ipython3",
   "version": "3.11.0"
  },
  "orig_nbformat": 4
 },
 "nbformat": 4,
 "nbformat_minor": 2
}
